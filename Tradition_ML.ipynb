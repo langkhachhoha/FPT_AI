{
 "cells": [
  {
   "cell_type": "code",
   "execution_count": 1,
   "metadata": {},
   "outputs": [],
   "source": [
    "import pandas as pd\n",
    "import scipy.io\n",
    "import numpy as np\n",
    "from scipy.spatial.distance import pdist, squareform\n",
    "import networkx as nx\n",
    "import matplotlib.pyplot as plt\n",
    "import seaborn as sns\n",
    "%matplotlib inline\n",
    "import tensorflow as tf\n",
    "import time\n",
    "from scipy.spatial import distance\n"
   ]
  },
  {
   "cell_type": "markdown",
   "metadata": {},
   "source": [
    "# Data  \n",
    "\n",
    "I am using the QM7 dataset, which is a subset of GDB-13 (a database of nearly 1 billion stable and synthetically accessible organic molecules) containing up to 7 heavy atoms C, N, O, and S. The 3D Cartesian coordinates of the most stable conformations and their atomization energies were determined using ab-initio density functional theory (PBE0/tier2 basis set). This dataset also provided Coulomb matrices as calculated in [Rupp et al. PRL, 2012]:  \n",
    "  * $C_{i,i} = 0.5 \\cdot Z^2.4$  \n",
    "  * $C_{i,j} = Z_i \\cdot \\frac{Z_j}{|(R_i−R_j)|}$ \n",
    "  * $Z_i$ - nuclear charge of atom i  \n",
    "  * $R_i$ - cartesian coordinates of atom i  \n",
    "\n",
    "The data file (.mat format, we recommend using `scipy.io.loadmat` for python users) contains five arrays:  \n",
    "  * \"X\" - (7165 x 23 x 23), Coulomb matrices  \n",
    "  * \"T\" - (7165), atomization energies (unit: kcal/mol)  \n",
    "  * \"P\" - (5 x 1433), cross-validation splits as used in [Montavon et al. NIPS, 2012]  \n",
    "  * \"Z\" - (7165 x 23), atomic charges  \n",
    "  * \"R\" - (7165 x 23 x 3), cartesian coordinate (unit: Bohr) of each atom in the molecules   "
   ]
  },
  {
   "cell_type": "markdown",
   "metadata": {},
   "source": [
    "# Process Data "
   ]
  },
  {
   "cell_type": "code",
   "execution_count": 2,
   "metadata": {},
   "outputs": [
    {
     "data": {
      "text/plain": [
       "array([-0.20898 , -0.35621 , -0.282105, ..., -0.83105 , -0.891005,\n",
       "       -0.9595  ], dtype=float32)"
      ]
     },
     "execution_count": 2,
     "metadata": {},
     "output_type": "execute_result"
    }
   ],
   "source": [
    "qm7 = scipy.io.loadmat('Data/qm7.mat')\n",
    "X,T,P,Z,R = qm7['X'], qm7['T'], qm7['P'], qm7['Z'], qm7['R'] \n",
    "y = np.transpose(qm7['T']).reshape((7165,))\n",
    "y = y/2000 # atomization energy\n",
    "y # Label"
   ]
  },
  {
   "cell_type": "code",
   "execution_count": 3,
   "metadata": {},
   "outputs": [],
   "source": [
    "num_atoms = X.shape[1]\n",
    "final_data = []\n",
    "max_len = num_atoms*num_atoms + 2\n",
    "for id, molecue in enumerate(X):\n",
    "    lst = []\n",
    "    dis = []\n",
    "    \n",
    "    distance_matrix = distance.cdist(R[id], R[id], 'euclidean')\n",
    "    for i in range(num_atoms):\n",
    "        if molecue[i][i] == 0:\n",
    "            break\n",
    "        lst.append(molecue[i][i])\n",
    "    lst.append(0)\n",
    "    for i in range(num_atoms):\n",
    "        if molecue[i][i] == 0:\n",
    "            break \n",
    "        for j in range(i+1, num_atoms):\n",
    "            if molecue[i][j] == 0:\n",
    "                break\n",
    "            lst.append(molecue[i][j])\n",
    "            dis.append(distance_matrix[i][j])\n",
    "    lt = lst+[0]+dis\n",
    "    while (len(lt) < max_len):\n",
    "        lt.append(0)\n",
    "    final_data.append(lt)\n",
    "transform_data = np.array(final_data)\n",
    "transform_data = transform_data/100 "
   ]
  },
  {
   "cell_type": "markdown",
   "metadata": {},
   "source": [
    "# Train_data"
   ]
  },
  {
   "cell_type": "code",
   "execution_count": 4,
   "metadata": {},
   "outputs": [
    {
     "name": "stdout",
     "output_type": "stream",
     "text": [
      "Atomization Energy:\n",
      "[-0.20898  -0.35621  -0.282105 ... -0.83105  -0.891005 -0.9595  ]\n",
      "Molecule Reprsent:\n",
      "[[0.36858105 0.005      0.005      ... 0.         0.         0.        ]\n",
      " [0.36858105 0.36858105 0.005      ... 0.         0.         0.        ]\n",
      " [0.36858105 0.36858105 0.005      ... 0.         0.         0.        ]\n",
      " ...\n",
      " [0.36858105 0.53358707 0.36858105 ... 0.         0.         0.        ]\n",
      " [0.36858105 0.36858105 0.36858105 ... 0.         0.         0.        ]\n",
      " [0.36858105 0.36858105 0.36858105 ... 0.         0.         0.        ]]\n"
     ]
    }
   ],
   "source": [
    "print(\"Atomization Energy:\\n{}\".format(y))\n",
    "print(\"Molecule Reprsent:\\n{}\".format(transform_data))"
   ]
  },
  {
   "cell_type": "markdown",
   "metadata": {},
   "source": [
    "# Model Training "
   ]
  },
  {
   "cell_type": "markdown",
   "metadata": {},
   "source": [
    "### 1. XGBoost"
   ]
  },
  {
   "cell_type": "code",
   "execution_count": 5,
   "metadata": {},
   "outputs": [],
   "source": [
    "rand_state = 123"
   ]
  },
  {
   "cell_type": "code",
   "execution_count": 6,
   "metadata": {},
   "outputs": [],
   "source": [
    "import xgboost as xgb\n",
    "from sklearn.svm import SVC\n",
    "from sklearn.model_selection import train_test_split\n",
    "from sklearn.metrics import mean_squared_error as MSE \n",
    "from sklearn.metrics import mean_absolute_error as MAE \n",
    "from sklearn.model_selection import cross_val_score, KFold"
   ]
  },
  {
   "cell_type": "code",
   "execution_count": 20,
   "metadata": {},
   "outputs": [
    {
     "name": "stderr",
     "output_type": "stream",
     "text": [
      "/Users/apple/anaconda3/lib/python3.11/site-packages/xgboost/core.py:160: UserWarning: [15:32:27] WARNING: /Users/runner/work/xgboost/xgboost/src/objective/regression_obj.cu:209: reg:linear is now deprecated in favor of reg:squarederror.\n",
      "  warnings.warn(smsg, UserWarning)\n",
      "/Users/apple/anaconda3/lib/python3.11/site-packages/xgboost/core.py:160: UserWarning: [15:32:33] WARNING: /Users/runner/work/xgboost/xgboost/src/objective/regression_obj.cu:209: reg:linear is now deprecated in favor of reg:squarederror.\n",
      "  warnings.warn(smsg, UserWarning)\n",
      "/Users/apple/anaconda3/lib/python3.11/site-packages/xgboost/core.py:160: UserWarning: [15:32:39] WARNING: /Users/runner/work/xgboost/xgboost/src/objective/regression_obj.cu:209: reg:linear is now deprecated in favor of reg:squarederror.\n",
      "  warnings.warn(smsg, UserWarning)\n",
      "/Users/apple/anaconda3/lib/python3.11/site-packages/xgboost/core.py:160: UserWarning: [15:32:45] WARNING: /Users/runner/work/xgboost/xgboost/src/objective/regression_obj.cu:209: reg:linear is now deprecated in favor of reg:squarederror.\n",
      "  warnings.warn(smsg, UserWarning)\n"
     ]
    },
    {
     "name": "stdout",
     "output_type": "stream",
     "text": [
      "[0.011701697, 0.008478755, 0.012975742, 0.0077675963]\n",
      "RMSE_training: 0.01023094728589058\n",
      "RMSE_testing: 16.70544408261776\n"
     ]
    }
   ],
   "source": [
    "n_folds = P.shape[0]-1\n",
    "result = []\n",
    "index = 0\n",
    "test_X = transform_data[P[index]]\n",
    "test_y = y[P[index]]\n",
    "P_train = np.stack(tuple(P[i] for i in range(n_folds+1) if i != index), axis = 0)\n",
    "\n",
    "model_xgb = xgb.XGBRegressor(objective ='reg:linear', n_estimators = 300, seed = 123, eval_metric = 'rmse', max_depth = 6) \n",
    "\n",
    "for id, cross in enumerate(P_train):\n",
    "    x_val = transform_data[cross]\n",
    "    y_val = y[cross] \n",
    "    train_id = [l for l in range(n_folds) if l != id]\n",
    "    x_train = np.concatenate(tuple(transform_data[P_train[i]] for i in train_id), axis = 0)\n",
    "    y_train = np.concatenate(tuple(y[P_train[i]] for i in train_id), axis = 0)\n",
    "    model_xgb.fit(x_train, y_train) \n",
    "    pred = model_xgb.predict(x_val)\n",
    "    # RMSE Computation \n",
    "    rmse = np.sqrt(MSE(y_val, pred)) \n",
    "    result.append(rmse)\n",
    "    \n",
    "print(result)\n",
    "print(\"RMSE_training: {}\".format(np.mean(np.array(result))))\n",
    "pred_test = model_xgb.predict(test_X)\n",
    "rmse = np.sqrt(MSE(test_y, pred_test)) \n",
    "print(\"RMSE_testing: {}\".format(rmse*2000))\n",
    "\n",
    "\n"
   ]
  },
  {
   "cell_type": "markdown",
   "metadata": {},
   "source": [
    "### 2. SVR"
   ]
  },
  {
   "cell_type": "code",
   "execution_count": 19,
   "metadata": {},
   "outputs": [
    {
     "name": "stdout",
     "output_type": "stream",
     "text": [
      "[0.04340218450386778, 0.041690432093440914, 0.04078364525696893, 0.04070576945363344]\n",
      "RMSE_training: 0.04164550782697776\n",
      "RMSE_testing: 78.95892163733367\n"
     ]
    },
    {
     "data": {
      "text/plain": [
       "0.03947946081866684"
      ]
     },
     "execution_count": 19,
     "metadata": {},
     "output_type": "execute_result"
    }
   ],
   "source": [
    "from sklearn.svm import SVR \n",
    "\n",
    "n_folds = P.shape[0]-1\n",
    "result = []\n",
    "index = 4\n",
    "test_X = transform_data[P[index]]\n",
    "test_y = y[P[index]]\n",
    "P_train = np.stack(tuple(P[i] for i in range(n_folds+1) if i != index), axis = 0)\n",
    "\n",
    "model_svr = SVR(kernel='linear') \n",
    "# poly, rbf \n",
    "\n",
    "for id, cross in enumerate(P_train):\n",
    "    x_val = transform_data[cross]\n",
    "    y_val = y[cross] \n",
    "    train_id = [l for l in range(n_folds) if l != id]\n",
    "    x_train = np.concatenate(tuple(transform_data[P_train[i]] for i in train_id), axis = 0)\n",
    "    y_train = np.concatenate(tuple(y[P_train[i]] for i in train_id), axis = 0)\n",
    "    model_svr.fit(x_train, y_train) \n",
    "    pred = model_svr.predict(x_val)\n",
    "    # RMSE Computation \n",
    "\n",
    "    rmse = np.sqrt(MSE(y_val, pred)) \n",
    "    result.append(rmse)\n",
    "    \n",
    "print(result)\n",
    "print(\"RMSE_training: {}\".format(np.mean(np.array(result))))\n",
    "pred_test = model_svr.predict(test_X)\n",
    "rmse = np.sqrt(MSE(test_y, pred_test)) \n",
    "print(\"RMSE_testing: {}\".format(rmse*2000))\n",
    "MSE(test_y, pred_test)**0.5\n"
   ]
  },
  {
   "cell_type": "markdown",
   "metadata": {},
   "source": [
    "## 3. AdaBoost"
   ]
  },
  {
   "cell_type": "code",
   "execution_count": 11,
   "metadata": {},
   "outputs": [
    {
     "name": "stdout",
     "output_type": "stream",
     "text": [
      "[0.025557004455692374, 0.02516945429829853, 0.026004648614615117, 0.024173826339992842]\n",
      "RMSE_training: 0.025226233427149712\n",
      "RMSE_testing: 0.024928986078889544\n"
     ]
    }
   ],
   "source": [
    "from sklearn.ensemble import AdaBoostRegressor\n",
    "\n",
    "\n",
    "n_folds = P.shape[0]-1\n",
    "result = []\n",
    "index = 0\n",
    "test_X = transform_data[P[index]]\n",
    "test_y = y[P[index]]\n",
    "P_train = np.stack(tuple(P[i] for i in range(n_folds+1) if i != index), axis = 0)\n",
    "\n",
    "model_ada = AdaBoostRegressor(random_state=123, n_estimators=100)\n",
    "# poly, rbf \n",
    "\n",
    "for id, cross in enumerate(P_train):\n",
    "    x_val = transform_data[cross]\n",
    "    y_val = y[cross] \n",
    "    train_id = [l for l in range(n_folds) if l != id]\n",
    "    x_train = np.concatenate(tuple(transform_data[P_train[i]] for i in train_id), axis = 0)\n",
    "    y_train = np.concatenate(tuple(y[P_train[i]] for i in train_id), axis = 0)\n",
    "    model_ada.fit(x_train, y_train) \n",
    "    pred = model_ada.predict(x_val)\n",
    "    # RMSE Computation \n",
    "\n",
    "    rmse = np.sqrt(MSE(y_val, pred)) \n",
    "    result.append(rmse)\n",
    "    # break \n",
    "    \n",
    "print(result)\n",
    "print(\"RMSE_training: {}\".format(np.mean(np.array(result))))\n",
    "pred_test = model_ada.predict(test_X)\n",
    "rmse = np.sqrt(MSE(test_y, pred_test)) \n",
    "print(\"RMSE_testing: {}\".format(rmse))"
   ]
  },
  {
   "cell_type": "code",
   "execution_count": 18,
   "metadata": {},
   "outputs": [
    {
     "name": "stdout",
     "output_type": "stream",
     "text": [
      "(4299, 531) (4299,)\n",
      "[0.025383040334771585]\n",
      "RMSE_training: 0.025383040334771585\n",
      "RMSE_testing: 63.30810352881318\n"
     ]
    }
   ],
   "source": [
    "from sklearn.ensemble import AdaBoostRegressor\n",
    "from sklearn.linear_model import LinearRegression\n",
    "regr = LinearRegression()\n",
    "\n",
    "n_folds = P.shape[0]-1\n",
    "result = []\n",
    "index = 0\n",
    "test_X = transform_data[P[index]]\n",
    "test_y = y[P[index]]\n",
    "P_train = np.stack(tuple(P[i] for i in range(n_folds+1) if i != index), axis = 0)\n",
    "\n",
    "model = LinearRegression()\n",
    "# poly, rbf \n",
    "\n",
    "for id, cross in enumerate(P_train):\n",
    "    x_val = transform_data[cross]\n",
    "    y_val = y[cross] \n",
    "    train_id = [l for l in range(n_folds) if l != id]\n",
    "    x_train = np.concatenate(tuple(transform_data[P_train[i]] for i in train_id), axis = 0)\n",
    "    y_train = np.concatenate(tuple(y[P_train[i]] for i in train_id), axis = 0)\n",
    "    print(x_train.shape, y_train.shape)\n",
    "    model.fit(x_train, y_train) \n",
    "    pred = model.predict(x_val)\n",
    "    # RMSE Computation \n",
    "    # print(pred, y_val)\n",
    "    rmse = np.sqrt(MSE(y_val, pred)) \n",
    "    result.append(rmse)\n",
    "    break \n",
    "    \n",
    "print(result)\n",
    "print(\"RMSE_training: {}\".format(np.mean(np.array(result))))\n",
    "pred_test = model.predict(test_X)\n",
    "rmse = np.sqrt(MSE(test_y, pred_test)) \n",
    "print(\"RMSE_testing: {}\".format(rmse*2000))"
   ]
  },
  {
   "cell_type": "code",
   "execution_count": null,
   "metadata": {},
   "outputs": [],
   "source": []
  },
  {
   "cell_type": "code",
   "execution_count": null,
   "metadata": {},
   "outputs": [],
   "source": []
  }
 ],
 "metadata": {
  "kernelspec": {
   "display_name": "base",
   "language": "python",
   "name": "python3"
  },
  "language_info": {
   "codemirror_mode": {
    "name": "ipython",
    "version": 3
   },
   "file_extension": ".py",
   "mimetype": "text/x-python",
   "name": "python",
   "nbconvert_exporter": "python",
   "pygments_lexer": "ipython3",
   "version": "3.11.5"
  },
  "orig_nbformat": 4
 },
 "nbformat": 4,
 "nbformat_minor": 2
}
