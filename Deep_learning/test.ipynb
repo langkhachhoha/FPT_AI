{
 "cells": [
  {
   "cell_type": "code",
   "execution_count": 33,
   "metadata": {},
   "outputs": [],
   "source": [
    "import scipy.io\n",
    "import numpy as np\n",
    "from scipy.spatial.distance import pdist, squareform\n",
    "from scipy.spatial import distance\n",
    "import torch\n",
    "from torch import nn\n",
    "from torch.utils.data import DataLoader"
   ]
  },
  {
   "cell_type": "code",
   "execution_count": 34,
   "metadata": {},
   "outputs": [],
   "source": [
    "loss_function = nn.L1Loss()"
   ]
  },
  {
   "cell_type": "code",
   "execution_count": 35,
   "metadata": {},
   "outputs": [],
   "source": [
    "pred = torch.tensor([1,2,3], dtype = torch.float32)\n",
    "label = torch.tensor([3,4,6], dtype=torch.float32)"
   ]
  },
  {
   "cell_type": "code",
   "execution_count": 36,
   "metadata": {},
   "outputs": [],
   "source": [
    "pred = pred.view(-1,1)\n",
    "label = label.view(-1,1)"
   ]
  },
  {
   "cell_type": "code",
   "execution_count": 37,
   "metadata": {},
   "outputs": [
    {
     "data": {
      "text/plain": [
       "tensor([[3.],\n",
       "        [4.],\n",
       "        [6.]])"
      ]
     },
     "execution_count": 37,
     "metadata": {},
     "output_type": "execute_result"
    }
   ],
   "source": [
    "label "
   ]
  },
  {
   "cell_type": "code",
   "execution_count": 38,
   "metadata": {},
   "outputs": [
    {
     "data": {
      "text/plain": [
       "tensor(2.3333)"
      ]
     },
     "execution_count": 38,
     "metadata": {},
     "output_type": "execute_result"
    }
   ],
   "source": [
    "loss_function(pred, label)"
   ]
  },
  {
   "cell_type": "code",
   "execution_count": 39,
   "metadata": {},
   "outputs": [
    {
     "data": {
      "text/plain": [
       "5.666666666666667"
      ]
     },
     "execution_count": 39,
     "metadata": {},
     "output_type": "execute_result"
    }
   ],
   "source": [
    "((3-1)**2 + (4-2)**2 + 3**2)/3 "
   ]
  },
  {
   "cell_type": "code",
   "execution_count": 40,
   "metadata": {},
   "outputs": [
    {
     "data": {
      "text/plain": [
       "5.666666666666667"
      ]
     },
     "execution_count": 40,
     "metadata": {},
     "output_type": "execute_result"
    }
   ],
   "source": [
    "17/3"
   ]
  },
  {
   "cell_type": "code",
   "execution_count": 49,
   "metadata": {},
   "outputs": [],
   "source": [
    "# With square kernels and equal stride\n",
    "m = nn.Conv2d(16, 33, 3, stride=2)\n",
    "# non-square kernels and unequal stride and with padding\n",
    "m = nn.Conv2d(16, 33, (3, 5), stride=(2, 1), padding=(4, 2))\n",
    "# non-square kernels and unequal stride and with padding and dilation\n",
    "m = nn.Conv2d(16, 33, (3, 5), stride=(2, 1), padding=(4, 2), dilation=(3, 1))\n",
    "input = torch.randn(20, 16, 50, 100)\n",
    "output = m(input)\n",
    "output = nn.Flatten()(output)"
   ]
  },
  {
   "cell_type": "code",
   "execution_count": 51,
   "metadata": {},
   "outputs": [
    {
     "data": {
      "text/plain": [
       "torch.Size([20, 85800])"
      ]
     },
     "execution_count": 51,
     "metadata": {},
     "output_type": "execute_result"
    }
   ],
   "source": [
    "output.shape "
   ]
  },
  {
   "cell_type": "code",
   "execution_count": 52,
   "metadata": {},
   "outputs": [],
   "source": [
    "matrix = np.random.rand(5,5)"
   ]
  },
  {
   "cell_type": "code",
   "execution_count": 53,
   "metadata": {},
   "outputs": [
    {
     "data": {
      "text/plain": [
       "array([[0.51195224, 0.62238701, 0.10922757, 0.78677078, 0.15744457],\n",
       "       [0.14602743, 0.99364256, 0.0256564 , 0.75986469, 0.07675676],\n",
       "       [0.96345713, 0.77251709, 0.80901709, 0.33102766, 0.6866741 ],\n",
       "       [0.50586619, 0.96582704, 0.61425859, 0.74289625, 0.67316459],\n",
       "       [0.65476294, 0.34236738, 0.43728604, 0.19487916, 0.67883397]])"
      ]
     },
     "execution_count": 53,
     "metadata": {},
     "output_type": "execute_result"
    }
   ],
   "source": [
    "matrix "
   ]
  },
  {
   "cell_type": "code",
   "execution_count": 54,
   "metadata": {},
   "outputs": [
    {
     "data": {
      "text/plain": [
       "array([[0.65476294, 0.50586619, 0.96345713, 0.14602743, 0.51195224],\n",
       "       [0.34236738, 0.96582704, 0.77251709, 0.99364256, 0.62238701],\n",
       "       [0.43728604, 0.61425859, 0.80901709, 0.0256564 , 0.10922757],\n",
       "       [0.19487916, 0.74289625, 0.33102766, 0.75986469, 0.78677078],\n",
       "       [0.67883397, 0.67316459, 0.6866741 , 0.07675676, 0.15744457]])"
      ]
     },
     "execution_count": 54,
     "metadata": {},
     "output_type": "execute_result"
    }
   ],
   "source": [
    "np.rot90(matrix, k=-1)"
   ]
  },
  {
   "cell_type": "code",
   "execution_count": 58,
   "metadata": {},
   "outputs": [
    {
     "data": {
      "text/plain": [
       "array([[[0.12113422, 0.43210137, 0.13478618, 0.46230167, 0.92168012],\n",
       "        [0.31512213, 0.52977993, 0.94160097, 0.83243036, 0.01892994],\n",
       "        [0.88426369, 0.24095103, 0.59431919, 0.67656999, 0.8374925 ],\n",
       "        [0.13645448, 0.57520215, 0.24612627, 0.43322305, 0.68006936],\n",
       "        [0.6461141 , 0.10205445, 0.51929374, 0.98770688, 0.7783806 ]],\n",
       "\n",
       "       [[0.6461141 , 0.13645448, 0.88426369, 0.31512213, 0.12113422],\n",
       "        [0.10205445, 0.57520215, 0.24095103, 0.52977993, 0.43210137],\n",
       "        [0.51929374, 0.24612627, 0.59431919, 0.94160097, 0.13478618],\n",
       "        [0.98770688, 0.43322305, 0.67656999, 0.83243036, 0.46230167],\n",
       "        [0.7783806 , 0.68006936, 0.8374925 , 0.01892994, 0.92168012]],\n",
       "\n",
       "       [[0.7783806 , 0.98770688, 0.51929374, 0.10205445, 0.6461141 ],\n",
       "        [0.68006936, 0.43322305, 0.24612627, 0.57520215, 0.13645448],\n",
       "        [0.8374925 , 0.67656999, 0.59431919, 0.24095103, 0.88426369],\n",
       "        [0.01892994, 0.83243036, 0.94160097, 0.52977993, 0.31512213],\n",
       "        [0.92168012, 0.46230167, 0.13478618, 0.43210137, 0.12113422]],\n",
       "\n",
       "       [[0.92168012, 0.01892994, 0.8374925 , 0.68006936, 0.7783806 ],\n",
       "        [0.46230167, 0.83243036, 0.67656999, 0.43322305, 0.98770688],\n",
       "        [0.13478618, 0.94160097, 0.59431919, 0.24612627, 0.51929374],\n",
       "        [0.43210137, 0.52977993, 0.24095103, 0.57520215, 0.10205445],\n",
       "        [0.12113422, 0.31512213, 0.88426369, 0.13645448, 0.6461141 ]]])"
      ]
     },
     "execution_count": 58,
     "metadata": {},
     "output_type": "execute_result"
    }
   ],
   "source": [
    "data = np.random.rand(5,5)\n",
    "ori = data \n",
    "ori_1 = np.rot90(ori, -1)\n",
    "ori_2 = np.rot90(ori_1, -1)\n",
    "ori_3 = np.rot90(ori_2, -1)\n",
    "np.stack((ori, ori_1, ori_2, ori_3), axis = 0)"
   ]
  },
  {
   "cell_type": "code",
   "execution_count": 1,
   "metadata": {},
   "outputs": [
    {
     "data": {
      "text/plain": [
       "276.0"
      ]
     },
     "execution_count": 1,
     "metadata": {},
     "output_type": "execute_result"
    }
   ],
   "source": [
    "0.1380 * 2000"
   ]
  },
  {
   "cell_type": "code",
   "execution_count": 66,
   "metadata": {},
   "outputs": [
    {
     "name": "stdout",
     "output_type": "stream",
     "text": [
      "tensor([[[[0., 0.],\n",
      "          [0., 0.]],\n",
      "\n",
      "         [[0., 0.],\n",
      "          [0., 0.]],\n",
      "\n",
      "         [[0., 0.],\n",
      "          [0., 0.]],\n",
      "\n",
      "         [[0., 0.],\n",
      "          [0., 0.]]],\n",
      "\n",
      "\n",
      "        [[[0., 0.],\n",
      "          [0., 0.]],\n",
      "\n",
      "         [[0., 0.],\n",
      "          [0., 0.]],\n",
      "\n",
      "         [[0., 0.],\n",
      "          [0., 0.]],\n",
      "\n",
      "         [[0., 0.],\n",
      "          [0., 0.]]]])\n",
      "tensor([[[[ 0.1182,  1.3212],\n",
      "          [ 0.4984, -1.0404]],\n",
      "\n",
      "         [[ 0.1182,  1.3212],\n",
      "          [ 0.4984, -1.0404]],\n",
      "\n",
      "         [[ 0.1182,  1.3212],\n",
      "          [ 0.4984, -1.0404]],\n",
      "\n",
      "         [[ 0.1182,  1.3212],\n",
      "          [ 0.4984, -1.0404]]],\n",
      "\n",
      "\n",
      "        [[[ 0.4061, -0.7494],\n",
      "          [ 0.5179, -0.7970]],\n",
      "\n",
      "         [[ 0.4061, -0.7494],\n",
      "          [ 0.5179, -0.7970]],\n",
      "\n",
      "         [[ 0.4061, -0.7494],\n",
      "          [ 0.5179, -0.7970]],\n",
      "\n",
      "         [[ 0.4061, -0.7494],\n",
      "          [ 0.5179, -0.7970]]]])\n"
     ]
    },
    {
     "data": {
      "text/plain": [
       "tensor([[[[ 0.0000,  0.0000,  0.1182,  1.3212],\n",
       "          [ 0.0000,  0.0000,  0.4984, -1.0404]],\n",
       "\n",
       "         [[ 0.0000,  0.0000,  0.1182,  1.3212],\n",
       "          [ 0.0000,  0.0000,  0.4984, -1.0404]],\n",
       "\n",
       "         [[ 0.0000,  0.0000,  0.1182,  1.3212],\n",
       "          [ 0.0000,  0.0000,  0.4984, -1.0404]],\n",
       "\n",
       "         [[ 0.0000,  0.0000,  0.1182,  1.3212],\n",
       "          [ 0.0000,  0.0000,  0.4984, -1.0404]]],\n",
       "\n",
       "\n",
       "        [[[ 0.0000,  0.0000,  0.4061, -0.7494],\n",
       "          [ 0.0000,  0.0000,  0.5179, -0.7970]],\n",
       "\n",
       "         [[ 0.0000,  0.0000,  0.4061, -0.7494],\n",
       "          [ 0.0000,  0.0000,  0.5179, -0.7970]],\n",
       "\n",
       "         [[ 0.0000,  0.0000,  0.4061, -0.7494],\n",
       "          [ 0.0000,  0.0000,  0.5179, -0.7970]],\n",
       "\n",
       "         [[ 0.0000,  0.0000,  0.4061, -0.7494],\n",
       "          [ 0.0000,  0.0000,  0.5179, -0.7970]]]])"
      ]
     },
     "execution_count": 66,
     "metadata": {},
     "output_type": "execute_result"
    }
   ],
   "source": [
    "# Giả sử tensor ban đầu là x có kích thước (253, 23, 64)\n",
    "x = torch.randn(2,2,2)\n",
    "# print(x)\n",
    "# Mở rộng tensor thành kích thước (253, 4, 23, 64)\n",
    "x_expanded = x.unsqueeze(1)  # Thêm một chiều thứ 2 với kích thước 1, trở thành (253, 1, 23, 64)\n",
    "x_expanded = x_expanded.expand(-1, 4, -1, -1)  # Nhân bản chiều thứ 2 thành 4 lần\n",
    "y = torch.zeros(2,4,2,2)\n",
    "print(y)\n",
    "print(x_expanded)\n",
    "torch.concat((y, x_expanded), dim = 3)  # Kết quả sẽ là (253, 4, 23, 64)"
   ]
  },
  {
   "cell_type": "code",
   "execution_count": null,
   "metadata": {},
   "outputs": [],
   "source": [
    "x = torch.tensor()"
   ]
  }
 ],
 "metadata": {
  "kernelspec": {
   "display_name": "base",
   "language": "python",
   "name": "python3"
  },
  "language_info": {
   "codemirror_mode": {
    "name": "ipython",
    "version": 3
   },
   "file_extension": ".py",
   "mimetype": "text/x-python",
   "name": "python",
   "nbconvert_exporter": "python",
   "pygments_lexer": "ipython3",
   "version": "3.11.5"
  },
  "orig_nbformat": 4
 },
 "nbformat": 4,
 "nbformat_minor": 2
}
